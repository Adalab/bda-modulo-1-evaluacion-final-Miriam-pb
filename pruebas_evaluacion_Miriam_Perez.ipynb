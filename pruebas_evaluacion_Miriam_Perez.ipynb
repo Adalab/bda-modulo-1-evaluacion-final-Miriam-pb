{
 "cells": [
  {
   "cell_type": "code",
   "execution_count": 5,
   "id": "24acea77",
   "metadata": {},
   "outputs": [],
   "source": [
    "# metodo de agregar producto\n",
    "\n",
    "inventario = {'nombre': 'Camisa', 'precio': 20, 'cantidad': 40}, {'nombre': 'Pantalón', 'precio': 30, 'cantidad': 30} \n",
    "def agregar_producto(nombre, precio, cantidad):\n",
    "    \n",
    "\n",
    "    for producto in inventario:\n",
    "        \n",
    "        if producto['nombre'] == nombre:\n",
    "            producto['cantidad'] += cantidad\n",
    "            print(f'cantidad de {nombre} actualizada, quedan: {cantidad}')\n",
    "        else:\n",
    "            inventario.append[{'nombre': nombre, 'precio': precio, 'cantidad': cantidad}]\n",
    "        \n"
   ]
  },
  {
   "cell_type": "code",
   "execution_count": null,
   "id": "49caf66d",
   "metadata": {},
   "outputs": [
    {
     "ename": "AttributeError",
     "evalue": "'tuple' object has no attribute 'agregar_producto'",
     "output_type": "error",
     "traceback": [
      "\u001b[1;31m---------------------------------------------------------------------------\u001b[0m",
      "\u001b[1;31mAttributeError\u001b[0m                            Traceback (most recent call last)",
      "Cell \u001b[1;32mIn[7], line 1\u001b[0m\n\u001b[1;32m----> 1\u001b[0m inventario\u001b[38;5;241m.\u001b[39magregar_producto(\u001b[38;5;124m'\u001b[39m\u001b[38;5;124mcamisa\u001b[39m\u001b[38;5;124m'\u001b[39m, \u001b[38;5;241m20\u001b[39m, \u001b[38;5;241m40\u001b[39m)\n",
      "\u001b[1;31mAttributeError\u001b[0m: 'tuple' object has no attribute 'agregar_producto'"
     ]
    }
   ],
   "source": [
    "# probamos el primer metodo de agregar_producto fuera de la clase\n",
    "\n",
    "inventario = []\n",
    "\n",
    "def agregar_producto(nombre, precio, cantidad):\n",
    "    \n",
    "     #el inventario no hay que ponerlo dentro porque si no siempre esta vacio??\n",
    "\n",
    "    for producto in inventario:# no estoy segura del .keys() aqui\n",
    "        if producto['nombre']== nombre:\n",
    "\n",
    "            if producto['cantidad'] != cantidad:\n",
    "\n",
    "                producto['cantidad'] += cantidad\n",
    "                print(f'la cantidad de {nombre} ha sido actualizada a {cantidad}') #printeamos la actualizacion de la cantidad del producto si ya existe en el inventario\n",
    "\n",
    "            else:\n",
    "                print(f'el articulo {nombre} ya existe, quedan {cantidad} unidades')\n",
    "\n",
    "            return # lo pongo por si tuvieramos un inventario largo o para evitar errores\n",
    "    nuevo_producto = {'nombre': nombre, 'precio': precio, 'cantidad': cantidad}\n",
    "    inventario.append(nuevo_producto)\n",
    "    print(f'el articulo {nombre}, ha sido añadido al inventario con exito')\n",
    "    \n"
   ]
  },
  {
   "cell_type": "code",
   "execution_count": null,
   "id": "c0760f4a",
   "metadata": {},
   "outputs": [],
   "source": [
    "agregar_producto('Camisa', 20, 8)"
   ]
  },
  {
   "cell_type": "code",
   "execution_count": null,
   "id": "b83c5ebb",
   "metadata": {},
   "outputs": [],
   "source": [
    "agregar_producto('Pantalon', 30, 30)\n",
    "print(inventario)"
   ]
  },
  {
   "cell_type": "code",
   "execution_count": null,
   "id": "6fb2fad2",
   "metadata": {},
   "outputs": [],
   "source": [
    "class TiendaOnline:\n",
    "\n",
    "    def __init__(self, inventario, ventas_totales):\n",
    "\n",
    "        self.inventario = [{}]\n",
    "        self.ventas_totales = 0.0\n",
    "\n",
    "    def agregar_producto(self, nombre, precio, cantidad):\n",
    "\n",
    "        if nombre in self.inventario.keys():# no estoy segura del .keys() aqui\n",
    "            self.inventario[cantidad] += cantidad\n",
    "            print(f'la cantidad de {nombre} ha sido actualizada a {cantidad}') #printeamos la actualizacion de la cantidad del producto si ya existe en el inventario\n",
    "\n",
    "        else:\n",
    "            self.inventario[{'nombre': nombre, 'precio': precio, 'cantidad': cantidad}]\n",
    "            print(f'el articulo {nombre}, ha sido añadido al inventario con exito')\n",
    "\n"
   ]
  },
  {
   "cell_type": "code",
   "execution_count": null,
   "id": "f56cb495",
   "metadata": {},
   "outputs": [],
   "source": [
    "agregar_producto('Camisa', 20, 30)"
   ]
  },
  {
   "cell_type": "code",
   "execution_count": null,
   "id": "b9614ecf",
   "metadata": {},
   "outputs": [],
   "source": [
    "inventario = list({'nombre': nombre, 'precio': precio, 'cantidad': cantidad})\n",
    "    print(f'el articulo {nombre}, ha sido añadido al inventario con exito')\n",
    "    print(inventario)\n",
    "    print(type(inventario))"
   ]
  },
  {
   "cell_type": "code",
   "execution_count": null,
   "id": "62818a51",
   "metadata": {},
   "outputs": [],
   "source": [
    "# metodo ver_inventario\n",
    "\n",
    "def ver_inventario():\n",
    "    for producto in inventario:\n",
    "        print(f'Nombre: {producto['nombre']}, Precio: ${producto['cantidad']}, Cantidad: {producto['cantidad']}')"
   ]
  },
  {
   "cell_type": "code",
   "execution_count": null,
   "id": "4eabb216",
   "metadata": {},
   "outputs": [],
   "source": [
    "ver_inventario()"
   ]
  },
  {
   "cell_type": "code",
   "execution_count": null,
   "id": "79f5b71d",
   "metadata": {},
   "outputs": [],
   "source": [
    "def buscar_producto(nombre):\n",
    "\n",
    "    for producto in inventario:\n",
    "        \n",
    "        if producto['nombre'] == nombre:\n",
    "            print(f'Nombre: {producto['nombre']}, Precio: ${producto['precio']}, Cantidad: {producto['cantidad']}')\n",
    "\n",
    "        else:\n",
    "            print(f'el producto {nombre} no esta en el inventario, utiliza el metodo ver_inventario para comprobarlo y el metodo agregar_producto para agregarlo')\n",
    "        break"
   ]
  },
  {
   "cell_type": "code",
   "execution_count": null,
   "id": "17a84043",
   "metadata": {},
   "outputs": [],
   "source": [
    "buscar_producto('Camisa')"
   ]
  },
  {
   "cell_type": "code",
   "execution_count": 4,
   "id": "f98465e5",
   "metadata": {},
   "outputs": [],
   "source": [
    "inventario = [{'nombre': 'Camisa', 'precio': 20, 'cantidad': 5}]\n",
    "\n",
    "def actualizar_stock(nombre, cantidad):\n",
    "    \n",
    "    for producto in inventario:\n",
    "        if producto['nombre'] == nombre:\n",
    "            producto['cantidad'] += cantidad\n",
    "            print(f'Nombre: {producto['nombre']}, Precio: {producto['precio']} Cantidad: {producto['cantidad']}')\n",
    "            \n",
    "            if producto['cantidad'] < 0:\n",
    "                print(f'la cantidad de {nombre} es negativa, revisar el almacen o la cantidad introducida')\n",
    "        else:\n",
    "            print(f'el producto {nombre} no esta en el inventario, utiliza el metodo ver_inventario para comprobarlo y el metodo agregar_producto para añadirlo')\n",
    "        break"
   ]
  },
  {
   "cell_type": "code",
   "execution_count": 5,
   "id": "a84895a8",
   "metadata": {},
   "outputs": [
    {
     "name": "stdout",
     "output_type": "stream",
     "text": [
      "Nombre: Camisa, Precio: 20 Cantidad: -5\n",
      "la cantidad de Camisa es negativa, revisar el almacen o la cantidad introducida\n",
      "[{'nombre': 'Camisa', 'precio': 20, 'cantidad': -5}]\n"
     ]
    }
   ],
   "source": [
    "actualizar_stock('Camisa', -10)\n",
    "print(inventario)"
   ]
  },
  {
   "cell_type": "code",
   "execution_count": null,
   "id": "951bf4d4",
   "metadata": {},
   "outputs": [],
   "source": [
    "actualizar_stock('Camisa', 50)"
   ]
  },
  {
   "cell_type": "code",
   "execution_count": null,
   "id": "88f45598",
   "metadata": {},
   "outputs": [],
   "source": [
    "def eliminar_producto(nombre):\n",
    "\n",
    "    for producto in inventario:\n",
    "        if producto['nombre'] == nombre: # meto aqui unn booleano para probar y no poner siempre lo mismo\n",
    "            inventario.remove(producto)\n",
    "            print(f'el articulo {nombre} ha sido eliminado exitosamente del inventario')\n",
    "        else:\n",
    "            print(f'el articulo {nombre} no esta en el inventario')\n",
    "         # compruebo si hace falta "
   ]
  },
  {
   "cell_type": "code",
   "execution_count": null,
   "id": "e7630cf7",
   "metadata": {},
   "outputs": [],
   "source": [
    "eliminar_producto('Camisa')"
   ]
  },
  {
   "cell_type": "code",
   "execution_count": null,
   "id": "7b1ffa58",
   "metadata": {},
   "outputs": [],
   "source": [
    "#calcular_valor_inventario\n",
    "def calcular_valor_inventario():\n",
    "\n",
    "    valor_total = 0 # esto fuera que sino vuelve a 0 siempre\n",
    "    for producto in inventario:\n",
    "        valor_producto = producto['precio'] * producto['cantidad']\n",
    "        \n",
    "        valor_total += valor_producto\n",
    "    \n",
    "    return valor_total # no se si hay diferencia entre print aqui"
   ]
  },
  {
   "cell_type": "code",
   "execution_count": null,
   "id": "eeb3e2a7",
   "metadata": {},
   "outputs": [],
   "source": [
    "calcular_valor_inventario()"
   ]
  },
  {
   "cell_type": "markdown",
   "id": "23bca2a1",
   "metadata": {},
   "source": [
    "- me da error el metodo constructor a la hora de crear las instancias\n",
    "- no se me guarda el inventario, cuando he probado a eliminar 'camisa'\n",
    "- se resta el precio y la cantidad"
   ]
  },
  {
   "cell_type": "code",
   "execution_count": null,
   "id": "4bddeb47",
   "metadata": {},
   "outputs": [],
   "source": [
    "clientes = {}\n",
    "def agregar_cliente(nombre, email, compras):\n",
    "\n",
    "        if nombre in clientes:\n",
    "            print('ya existe este cliente')\n",
    "\n",
    "        else:\n",
    "            clientes[nombre] = [nombre, email, compras]\n",
    "            print('no estaba, se acaba de agregar el cliente')\n"
   ]
  },
  {
   "cell_type": "code",
   "execution_count": 2,
   "id": "1a4c32b2",
   "metadata": {},
   "outputs": [],
   "source": [
    "clientes = {}\n",
    "\n",
    "def agregar_cliente(nombre, email):\n",
    "    if nombre in clientes:\n",
    "        print('Ya existe este cliente.')\n",
    "    else:\n",
    "        clientes[nombre] = {'email': email, 'compras': []}\n",
    "        print('Cliente agregado exitosamente.')\n",
    "\n"
   ]
  },
  {
   "cell_type": "code",
   "execution_count": 8,
   "id": "327bb48f",
   "metadata": {},
   "outputs": [
    {
     "name": "stdout",
     "output_type": "stream",
     "text": [
      "Cliente agregado exitosamente.\n"
     ]
    }
   ],
   "source": [
    "agregar_cliente('miriam', 'miriam@gmail.com')"
   ]
  },
  {
   "cell_type": "code",
   "execution_count": 5,
   "id": "7459959f",
   "metadata": {},
   "outputs": [],
   "source": [
    "\n",
    "def ver_clientes():\n",
    "    for nombre, datos in clientes.items():\n",
    "        print(f'Nombre: {nombre}, Email: {datos[\"email\"]}')"
   ]
  },
  {
   "cell_type": "code",
   "execution_count": 9,
   "id": "9ead856e",
   "metadata": {},
   "outputs": [
    {
     "name": "stdout",
     "output_type": "stream",
     "text": [
      "Nombre: Cesar, Email: cesar@gmail.com\n",
      "Nombre: alvaro, Email: alvaro@gmail.com\n",
      "Nombre: miriam, Email: miriam@gmail.com\n"
     ]
    }
   ],
   "source": [
    "ver_clientes()"
   ]
  }
 ],
 "metadata": {
  "kernelspec": {
   "display_name": "base",
   "language": "python",
   "name": "python3"
  },
  "language_info": {
   "codemirror_mode": {
    "name": "ipython",
    "version": 3
   },
   "file_extension": ".py",
   "mimetype": "text/x-python",
   "name": "python",
   "nbconvert_exporter": "python",
   "pygments_lexer": "ipython3",
   "version": "3.12.7"
  }
 },
 "nbformat": 4,
 "nbformat_minor": 5
}
