{
 "cells": [
  {
   "cell_type": "code",
   "execution_count": null,
   "id": "9babf930",
   "metadata": {},
   "outputs": [],
   "source": [
    "# creación de la clase TiendaOnline\n",
    "\n",
    "class TiendaOnline:\n",
    "\n",
    "    def __init__(self): # metodo constructor\n",
    "\n",
    "        self.inventario = [] # es una lista de disccionarios vacia #aqui falla algo||\n",
    "        self.ventas_totales = 0.0\n",
    "\n",
    "    def agregar_producto(self, nombre, precio, cantidad):\n",
    "    \n",
    "     #el inventario no hay que ponerlo dentro porque si no siempre esta vacio??\n",
    "\n",
    "        for producto in self.inventario:# no estoy segura del .keys() aqui\n",
    "            if producto['nombre']== nombre:\n",
    "\n",
    "                if producto['cantidad'] != cantidad:\n",
    "\n",
    "                    producto['cantidad'] += cantidad\n",
    "                    print(f'la cantidad de {nombre} ha sido actualizada a {cantidad}') #printeamos la actualizacion de la cantidad del producto si ya existe en el inventario\n",
    "\n",
    "                else:\n",
    "                    print(f'el articulo {nombre} ya existe, quedan {cantidad} unidades')\n",
    "\n",
    "                return # lo pongo por si tuvieramos un inventario largo o para evitar errores\n",
    "        nuevo_producto = {'nombre': nombre, 'precio': precio, 'cantidad': cantidad}\n",
    "        self.inventario.append(nuevo_producto)\n",
    "        print(f'el articulo {nombre}, ha sido añadido al inventario con exito')\n",
    "\n",
    "    def ver_inventario(self):\n",
    "        for producto in self.inventario:\n",
    "            print(f'Nombre: {producto['nombre']}, Precio: ${producto['cantidad']}, Cantidad: {producto['cantidad']}')\n",
    "            \n",
    "    def buscar_producto(self, nombre):\n",
    "\n",
    "        for producto in self.inventario:\n",
    "        \n",
    "            if producto['nombre'] == nombre:\n",
    "                print(f'Nombre: {producto['nombre']}, Precio: ${producto['precio']}, Cantidad: {producto['cantidad']}')\n",
    "\n",
    "            else:\n",
    "                print(f'el producto {nombre} no esta en el inventario, utiliza el metodo ver_inventario para comprobarlo y el metodo agregar_producto para agregarlo')\n",
    "            break        \n",
    "            # break porque si no sigue iterando por todo el inventario y daria el mensaje de else: print() con el resto de articulos aunque no lo busquemos\n",
    "    \n",
    "    def actualizar_stock(self, nombre, cantidad):\n",
    "    \n",
    "        for producto in self.inventario:\n",
    "            if producto['nombre'] == nombre:\n",
    "                producto['cantidad'] += cantidad\n",
    "                print(f'Nombre: {producto['nombre']}, Cantidad: {producto['cantidad']}') #revisar si me resta el precio tambien\n",
    "                \n",
    "                if producto['cantidad'] < 0:\n",
    "                    print(f'la cantidad de {nombre} es negativa, revisar el almacen o la cantidad introducida')\n",
    "            else:\n",
    "                print(f'el producto {nombre} no esta en el inventario, utiliza el metodo ver_inventario para comprobarlo y el metodo agregar_producto para añadirlo')\n",
    "            break\n",
    "    \n",
    "    def eliminar_producto(self, nombre): # no se me guarda el articulo luego probarlo con un inventario grande\n",
    "\n",
    "        for producto in self.inventario:\n",
    "            if producto['nombre'] == nombre:\n",
    "                self.inventario.remove(producto) # aqui dude si .remove(nombre) o .remove(producto)\n",
    "                print(f'el articulo {nombre} ha sido eliminado exitosamente del inventario')\n",
    "            else:\n",
    "                print(f'el articulo {nombre} no esta en el inventario')\n",
    "            \n",
    "    def calcular_valor_inventario(self):\n",
    "        \n",
    "        valor_total = 0 # esto fuera que sino vuelve a 0 siempre\n",
    "        for producto in self.inventario:\n",
    "            valor_producto = producto['precio'] * producto['cantidad']\n",
    "            \n",
    "            valor_total += valor_producto\n",
    "        \n",
    "        return valor_total # no se si hay diferencia entre print aqui\n",
    "            \n"
   ]
  },
  {
   "cell_type": "code",
   "execution_count": 164,
   "id": "0fd54f8c",
   "metadata": {},
   "outputs": [
    {
     "ename": "TypeError",
     "evalue": "TiendaOnline.__init__() missing 2 required positional arguments: 'inventario' and 'ventas_totales'",
     "output_type": "error",
     "traceback": [
      "\u001b[1;31m---------------------------------------------------------------------------\u001b[0m",
      "\u001b[1;31mTypeError\u001b[0m                                 Traceback (most recent call last)",
      "Cell \u001b[1;32mIn[164], line 3\u001b[0m\n\u001b[0;32m      1\u001b[0m \u001b[38;5;66;03m# instancias para probar la clase:\u001b[39;00m\n\u001b[1;32m----> 3\u001b[0m mi_primera_tienda \u001b[38;5;241m=\u001b[39m TiendaOnline()\n\u001b[0;32m      5\u001b[0m mi_segunda_tienda \u001b[38;5;241m=\u001b[39m TiendaOnline()\n",
      "\u001b[1;31mTypeError\u001b[0m: TiendaOnline.__init__() missing 2 required positional arguments: 'inventario' and 'ventas_totales'"
     ]
    }
   ],
   "source": [
    "# instancias para probar la clase:\n",
    "\n",
    "mi_primera_tienda = TiendaOnline()\n",
    "\n",
    "mi_segunda_tienda = TiendaOnline()"
   ]
  }
 ],
 "metadata": {
  "kernelspec": {
   "display_name": "base",
   "language": "python",
   "name": "python3"
  },
  "language_info": {
   "codemirror_mode": {
    "name": "ipython",
    "version": 3
   },
   "file_extension": ".py",
   "mimetype": "text/x-python",
   "name": "python",
   "nbconvert_exporter": "python",
   "pygments_lexer": "ipython3",
   "version": "3.12.7"
  }
 },
 "nbformat": 4,
 "nbformat_minor": 5
}
