{
 "cells": [
  {
   "cell_type": "code",
   "execution_count": 40,
   "id": "9babf930",
   "metadata": {},
   "outputs": [],
   "source": [
    "# creación de la clase TiendaOnline\n",
    "\n",
    "class TiendaOnline:\n",
    "\n",
    "    def __init__(self): # metodo constructor\n",
    "\n",
    "        self.inventario = [] \n",
    "        self.ventas_totales = 0.0\n",
    "        self.clientes = {}\n",
    "\n",
    "    def agregar_producto(self, nombre, precio, cantidad): # metodo para agregar un producto dando nombre, precio y cantidad del mismo\n",
    "\n",
    "        for producto in self.inventario:\n",
    "            if producto['nombre']== nombre: #buscamos por nombre el producto\n",
    "\n",
    "                if producto['cantidad'] != cantidad:\n",
    "\n",
    "                    producto['cantidad'] += cantidad # si la cantidad es diferente le ponemos la nueva\n",
    "                    print(f'la cantidad de {nombre} ha sido actualizada a {cantidad}') #printeamos la actualizacion de la cantidad del producto si ya existe en el inventario\n",
    "\n",
    "                else:\n",
    "                    print(f'el articulo {nombre} ya existe, quedan {cantidad} unidades') # no cambia nada si intentas agregar un producto ya existente con el mismo stock\n",
    "\n",
    "                return \n",
    "        nuevo_producto = {'nombre': nombre, 'precio': precio, 'cantidad': cantidad}\n",
    "        self.inventario.append(nuevo_producto) # aqui se añade si no existia previamente en el inventario\n",
    "        print(f'el articulo {nombre}, ha sido añadido al inventario con exito')\n",
    "\n",
    "    def ver_inventario(self):\n",
    "        for producto in self.inventario: #imprime el inventario entero\n",
    "            print(f'Nombre: {producto['nombre']}, Precio: ${producto['precio']}, Cantidad: {producto['cantidad']}')\n",
    "            \n",
    "    def buscar_producto(self, nombre): # introducimos el nombre para buscar el producto en el inventario\n",
    "\n",
    "        for producto in self.inventario:\n",
    "        \n",
    "            if producto['nombre'] == nombre:\n",
    "                print(f'Nombre: {producto['nombre']}, Precio: ${producto['precio']}, Cantidad: {producto['cantidad']}')\n",
    "\n",
    "            return\n",
    "        \n",
    "        print(f'el producto {nombre} no esta en el inventario, utiliza el metodo ver_inventario para comprobarlo y el metodo agregar_producto para agregarlo')\n",
    "                    \n",
    "            # break porque si no sigue iterando por todo el inventario y daria el mensaje de else: print() con el resto de articulos aunque no lo busquemos\n",
    "    \n",
    "    def actualizar_stock(self, nombre, cantidad): # cambiamos la cantidad del producto, dandole el nombre y la cantidad nueva se agrega\n",
    "    \n",
    "        for producto in self.inventario:\n",
    "            if producto['nombre'] == nombre:\n",
    "                producto['cantidad'] += cantidad\n",
    "                print(f'Nombre: {producto['nombre']}, Cantidad: {producto['cantidad']}') \n",
    "                \n",
    "                if producto['cantidad'] < 0:\n",
    "                    print(f'la cantidad de {nombre} es negativa, revisar el almacen o la cantidad introducida')\n",
    "            else:\n",
    "                print(f'el producto {nombre} no esta en el inventario, utiliza el metodo ver_inventario para comprobarlo y el metodo agregar_producto para añadirlo')\n",
    "            break\n",
    "    \n",
    "    def eliminar_producto(self, nombre): # eliminamos un producto si existe en el inventario\n",
    "\n",
    "        for producto in self.inventario:\n",
    "            if producto['nombre'] == nombre:\n",
    "                self.inventario.remove(producto) \n",
    "                print(f'el articulo {nombre} ha sido eliminado exitosamente del inventario')\n",
    "            \n",
    "            else:\n",
    "                print(f'el articulo {nombre} no esta en el inventario')\n",
    "                break\n",
    "            \n",
    "    def calcular_valor_inventario(self): # calculamos el valor total del inventario sacaando el valor total de cada producto y sumandolos\n",
    "        \n",
    "        valor_total = 0 # esto fuera que sino vuelve a 0 siempre\n",
    "        for producto in self.inventario:\n",
    "            valor_producto = producto['precio'] * producto['cantidad']\n",
    "            \n",
    "            valor_total += valor_producto\n",
    "        \n",
    "            print(f'el valor total del inventario es {valor_total}') \n",
    "\n",
    "    def agregar_cliente(self, nombre, email): # damos un nombre y un email de cliente y despues de comprobar si el cliente ya existe, lo agregamos\n",
    "\n",
    "        if nombre in self.clientes:\n",
    "            print('Ya existe este cliente')\n",
    "\n",
    "        else:\n",
    "            self.clientes[nombre] = {'email': email, 'compras': []}\n",
    "            print('Cliente agregado exitosamente')\n",
    "\n",
    "    def ver_clientes(self): # buscamos en los valores del diccionario de clientes y nos devuelve todos los clientes\n",
    "        for nombre, datos in self.clientes.items():\n",
    "            print(f'Nombre: {nombre}, Email: {datos[\"email\"]}')\n",
    "       \n"
   ]
  },
  {
   "cell_type": "code",
   "execution_count": 23,
   "id": "0fd54f8c",
   "metadata": {},
   "outputs": [],
   "source": [
    "# instancias para probar la clase:\n",
    "\n",
    "mi_primera_tienda = TiendaOnline()\n",
    "\n",
    "mi_segunda_tienda = TiendaOnline()"
   ]
  },
  {
   "cell_type": "code",
   "execution_count": 24,
   "id": "c9dd187d",
   "metadata": {},
   "outputs": [
    {
     "name": "stdout",
     "output_type": "stream",
     "text": [
      "el articulo zapatos, ha sido añadido al inventario con exito\n",
      "el articulo camisetas, ha sido añadido al inventario con exito\n",
      "el articulo pantalones, ha sido añadido al inventario con exito\n",
      "el articulo chaquetas, ha sido añadido al inventario con exito\n"
     ]
    }
   ],
   "source": [
    "mi_primera_tienda.agregar_producto('zapatos', 35, 15)\n",
    "mi_primera_tienda.agregar_producto('camisetas', 20, 10)\n",
    "mi_primera_tienda.agregar_producto('pantalones', 30, 10)\n",
    "mi_primera_tienda.agregar_producto('chaquetas', 45, 10)\n"
   ]
  },
  {
   "cell_type": "code",
   "execution_count": 25,
   "id": "7b233807",
   "metadata": {},
   "outputs": [
    {
     "name": "stdout",
     "output_type": "stream",
     "text": [
      "Nombre: zapatos, Precio: $35, Cantidad: 15\n",
      "Nombre: camisetas, Precio: $20, Cantidad: 10\n",
      "Nombre: pantalones, Precio: $30, Cantidad: 10\n",
      "Nombre: chaquetas, Precio: $45, Cantidad: 10\n"
     ]
    }
   ],
   "source": [
    "mi_primera_tienda.ver_inventario()"
   ]
  },
  {
   "cell_type": "code",
   "execution_count": 27,
   "id": "24f76d8f",
   "metadata": {},
   "outputs": [
    {
     "name": "stdout",
     "output_type": "stream",
     "text": [
      "Nombre: zapatos, Precio: $35, Cantidad: 15\n"
     ]
    }
   ],
   "source": [
    "mi_primera_tienda.buscar_producto('zapatos')"
   ]
  },
  {
   "cell_type": "code",
   "execution_count": null,
   "id": "014a1197",
   "metadata": {},
   "outputs": [
    {
     "name": "stdout",
     "output_type": "stream",
     "text": [
      "Nombre: zapatos, Cantidad: 21\n"
     ]
    }
   ],
   "source": [
    "mi_primera_tienda.actualizar_stock('zapatos', 6)"
   ]
  },
  {
   "cell_type": "code",
   "execution_count": 34,
   "id": "e3100d91",
   "metadata": {},
   "outputs": [
    {
     "name": "stdout",
     "output_type": "stream",
     "text": [
      "el articulo zapatos no esta en el inventario\n",
      "el articulo zapatos no esta en el inventario\n",
      "el articulo zapatos no esta en el inventario\n"
     ]
    }
   ],
   "source": [
    "mi_primera_tienda.eliminar_producto('zapatos')"
   ]
  },
  {
   "cell_type": "code",
   "execution_count": 42,
   "id": "af81b307",
   "metadata": {},
   "outputs": [
    {
     "data": {
      "text/plain": [
       "950"
      ]
     },
     "execution_count": 42,
     "metadata": {},
     "output_type": "execute_result"
    }
   ],
   "source": [
    "mi_primera_tienda.calcular_valor_inventario()"
   ]
  },
  {
   "cell_type": "code",
   "execution_count": 43,
   "id": "dec9964a",
   "metadata": {},
   "outputs": [
    {
     "name": "stdout",
     "output_type": "stream",
     "text": [
      "Cliente agregado exitosamente\n"
     ]
    }
   ],
   "source": [
    "mi_primera_tienda.agregar_cliente('Cesar', 'cesar@gmail.com')"
   ]
  },
  {
   "cell_type": "code",
   "execution_count": 44,
   "id": "db401d02",
   "metadata": {},
   "outputs": [
    {
     "name": "stdout",
     "output_type": "stream",
     "text": [
      "Nombre: Cesar, Email: cesar@gmail.com\n"
     ]
    }
   ],
   "source": [
    "mi_primera_tienda.ver_clientes()"
   ]
  }
 ],
 "metadata": {
  "kernelspec": {
   "display_name": "base",
   "language": "python",
   "name": "python3"
  },
  "language_info": {
   "codemirror_mode": {
    "name": "ipython",
    "version": 3
   },
   "file_extension": ".py",
   "mimetype": "text/x-python",
   "name": "python",
   "nbconvert_exporter": "python",
   "pygments_lexer": "ipython3",
   "version": "3.12.7"
  }
 },
 "nbformat": 4,
 "nbformat_minor": 5
}
